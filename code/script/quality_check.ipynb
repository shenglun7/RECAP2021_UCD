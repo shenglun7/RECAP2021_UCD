{
 "cells": [
  {
   "attachments": {},
   "cell_type": "markdown",
   "metadata": {},
   "source": [
    "This script is for qulity check. It qualify the $NO_x$, $NO_y$, $O_3$, and $O_3$ sensitivity results during the side-by-side comparison test in Davis, and Pasadena."
   ]
  },
  {
   "cell_type": "code",
   "execution_count": 3,
   "metadata": {},
   "outputs": [],
   "source": [
    "import os, importlib, sys\n",
    "import pandas as pd\n",
    "import numpy as np\n",
    "import matplotlib.pyplot as plt\n",
    "from scipy import stats\n",
    "from sklearn.linear_model import LinearRegression\n",
    "\n",
    "# local module\n",
    "sys.path.insert(0, '../../code/src')\n",
    "#importlib.reload(sys.modules['extract_chamber_data'])\n",
    "from extract_chamber_data import list_of_measurement_day\n",
    "from extract_chamber_data import get_NOxNOyO3_filepath\n",
    "from extract_chamber_data import get_raw_lvm\n",
    "from extract_chamber_data import get_raw_O3\n",
    "from extract_chamber_data import get_raw_NOx"
   ]
  },
  {
   "cell_type": "code",
   "execution_count": 4,
   "metadata": {},
   "outputs": [
    {
     "name": "stdout",
     "output_type": "stream",
     "text": [
      "Days with side-by-side comparison \n",
      " ['11/3/2021', '11/4/2021', '11/5/2021', '11/5/2021_night', '11/6/2021', '11/7/2021', '11/7/2021_night', '11/8/2021', '11/8/2021_night', '11/9/2021']\n"
     ]
    }
   ],
   "source": [
    "print('Days with side-by-side comparison \\n', \n",
    "      list_of_measurement_day('Redlands', test_type='qa/qc'))"
   ]
  },
  {
   "attachments": {},
   "cell_type": "markdown",
   "metadata": {},
   "source": [
    "## $NO_x$ (ambient) comparison in side-by-side comparison"
   ]
  },
  {
   "cell_type": "code",
   "execution_count": 10,
   "metadata": {},
   "outputs": [],
   "source": [
    "# get NOx from Redlands (raw NOx data without correction)\n",
    "list_NOx_file = ['../../data/raw/Chamber/Redlands/NOx/Measurement_110321.txt',\n",
    "                 '../../data/raw/Chamber/Redlands/NOx/Measurement_110421.txt',\n",
    "                 '../../data/raw/Chamber/Redlands/NOx/Measurement_110521.txt',\n",
    "                 '../../data/raw/Chamber/Redlands/NOx/Measurement_110621.txt',\n",
    "                 '../../data/raw/Chamber/Redlands/NOx/Measurement_110721.txt']\n",
    "\n",
    "df_NOx_RL = pd.DataFrame(columns=['Time', 'NO', 'NOx', 'NO2'])\n",
    "for filepath_NOx in list_NOx_file:\n",
    "    df_NOx = get_raw_NOx(filepath_NOx, correction=False)\n",
    "    df_NOx_RL = pd.concat([df_NOx_RL, df_NOx], axis=0)\n",
    "\n",
    "# get NOx from Pasadena (raw NOx data without correction)\n",
    "list_NOx_file = ['../../data/raw/Chamber/Pasadena/NOx/Measurement_110321.txt',\n",
    "                 '../../data/raw/Chamber/Pasadena/NOx/Measurement_110421.txt',\n",
    "                 '../../data/raw/Chamber/Pasadena/NOx/Measurement_110521.txt',\n",
    "                 '../../data/raw/Chamber/Pasadena/NOx/Measurement_110621.txt',\n",
    "                 '../../data/raw/Chamber/Pasadena/NOx/Measurement_110721.txt']\n",
    "\n",
    "df_NOx_PA = pd.DataFrame(columns=['Time', 'NO', 'NOx', 'NO2'])\n",
    "for filepath_NOx in list_NOx_file:\n",
    "    df_NOx = get_raw_NOx(filepath_NOx, correction=False)\n",
    "    df_NOx_PA = pd.concat([df_NOx_PA, df_NOx], axis=0)\n",
    "\n",
    "# merge two NOx dfs\n",
    "df_NOx_merge = df_NOx_RL.merge(df_NOx_PA, on='Time', how='inner')\n",
    "df_NOx_merge.columns = ['Time', 'NO_RL', 'NOx_RL', 'NO2_RL', 'NO_PA', 'NOx_PA', 'NO2_PA']"
   ]
  },
  {
   "cell_type": "code",
   "execution_count": 11,
   "metadata": {},
   "outputs": [],
   "source": [
    "# start and end time of chamber measurement \n",
    "# (last 4 hours, give warm up time 10min before and 20min after)\n",
    "time_chamber_start = pd.to_datetime(['2021-11-03 11:41:00', '2021-11-04 11:42:00', \n",
    "                                       '2021-11-05 11:33:00', '2021-11-05 19:24:00',\n",
    "                                       '2021-11-06 12:07:00','2021-11-07 11:37:00',\n",
    "                                       '2021-11-07 20:25:00']) - pd.Timedelta('10 minute')\n",
    "time_chamber_end = time_chamber_start + pd.Timedelta('4 hours') + pd.Timedelta('30 minute')"
   ]
  },
  {
   "cell_type": "code",
   "execution_count": 15,
   "metadata": {},
   "outputs": [],
   "source": [
    "df_NOx_merge_ambient = df_NOx_merge[(~((df_NOx_merge['Time']>=time_chamber_start[0])&\n",
    "                (df_NOx_merge['Time']<=time_chamber_end[0])))&\n",
    "             (~((df_NOx_merge['Time']>=time_chamber_start[1])&\n",
    "                (df_NOx_merge['Time']<=time_chamber_end[1])))&\n",
    "             (~((df_NOx_merge['Time']>=time_chamber_start[2])&\n",
    "                (df_NOx_merge['Time']<=time_chamber_end[2])))&\n",
    "             (~((df_NOx_merge['Time']>=time_chamber_start[3])&\n",
    "                (df_NOx_merge['Time']<=time_chamber_end[3])))&\n",
    "             (~((df_NOx_merge['Time']>=time_chamber_start[4])&\n",
    "                (df_NOx_merge['Time']<=time_chamber_end[4])))&\n",
    "             (~((df_NOx_merge['Time']>=time_chamber_start[5])&\n",
    "                (df_NOx_merge['Time']<=time_chamber_end[5])))&\n",
    "             (~((df_NOx_merge['Time']>=time_chamber_start[6])&\n",
    "                (df_NOx_merge['Time']<=time_chamber_end[6])))].reset_index(drop=True)\n",
    "\n",
    "# delete all value < 100\n",
    "df_NOx_merge_ambient = df_NOx_merge_ambient[(df_NOx_merge_ambient['NOx_RL']<80)&\n",
    "                                            (df_NOx_merge_ambient['NOx_PA']<80)]"
   ]
  },
  {
   "cell_type": "code",
   "execution_count": 16,
   "metadata": {},
   "outputs": [],
   "source": [
    "NOx_PA = df_NOx_merge_ambient.groupby(df_NOx_merge_ambient['Time'].\\\n",
    "                                      dt.strftime('%Y-%m-%d %H')).\\\n",
    "                              apply(lambda x: stats.trim_mean(x['NOx_PA'], 0.2))\n",
    "NOx_RL = df_NOx_merge_ambient.groupby(df_NOx_merge_ambient['Time'].\\\n",
    "                                      dt.strftime('%Y-%m-%d %H')).\\\n",
    "                              apply(lambda x: stats.trim_mean(x['NOx_RL'], 0.2))"
   ]
  },
  {
   "cell_type": "code",
   "execution_count": 17,
   "metadata": {},
   "outputs": [
    {
     "data": {
      "text/plain": [
       "Text(0, 0.5, 'NOx_PA')"
      ]
     },
     "execution_count": 17,
     "metadata": {},
     "output_type": "execute_result"
    },
    {
     "data": {
      "image/png": "[encoded data removed]",
      "text/plain": [
       "<Figure size 432x288 with 1 Axes>"
      ]
     },
     "metadata": {
      "needs_background": "light"
     },
     "output_type": "display_data"
    }
   ],
   "source": [
    "from extract_chamber_data import linearRegssion_withNaN \n",
    "\n",
    "X = NOx_RL.iloc[1:]\n",
    "Y = NOx_PA.iloc[1:]\n",
    "coef, intercept, r_value = linearRegssion_withNaN(X, Y)\n",
    "\n",
    "plt.scatter(X, Y)\n",
    "plt.plot(np.arange(0,100,10), coef*np.arange(0,100,10)+intercept, color='red')\n",
    "plt.text(10, 60, 'R2 = '+str(round(r_value**2, 2)) + '\\n' + 'y=' + str(round(coef, 2)) + 'x+' + str(round(intercept, 2)))\n",
    "\n",
    "plt.xlabel('NOx_RL')\n",
    "plt.ylabel('NOx_PA')"
   ]
  }
 ],
 "metadata": {
  "kernelspec": {
   "display_name": "base",
   "language": "python",
   "name": "python3"
  },
  "language_info": {
   "codemirror_mode": {
    "name": "ipython",
    "version": 3
   },
   "file_extension": ".py",
   "mimetype": "text/x-python",
   "name": "python",
   "nbconvert_exporter": "python",
   "pygments_lexer": "ipython3",
   "version": "3.9.7"
  },
  "orig_nbformat": 4
 },
 "nbformat": 4,
 "nbformat_minor": 2
}
