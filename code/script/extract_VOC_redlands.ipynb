{
 "cells": [
  {
   "cell_type": "markdown",
   "metadata": {},
   "source": [
    "This script categorize the VOC measured from redlands to SAPRC11 species"
   ]
  },
  {
   "cell_type": "code",
   "execution_count": 1,
   "metadata": {},
   "outputs": [],
   "source": [
    "import os, importlib, sys\n",
    "import pandas as pd\n",
    "import numpy as np"
   ]
  },
  {
   "cell_type": "code",
   "execution_count": 21,
   "metadata": {},
   "outputs": [],
   "source": [
    "df_VOC_CARB_Chamber = pd.read_csv('../../data/raw/df_VOC_CARB_Chamber_DNPHcorrected.csv')\n",
    "df_VOC_CARB_Chamber['Sample date'] = pd.to_datetime(df_VOC_CARB_Chamber['Sample date'])\n",
    "df_VOC_redlands = df_VOC_CARB_Chamber[df_VOC_CARB_Chamber['Type']=='VOC']\n",
    "df_saprc_name_redlands = pd.read_csv('../../data/raw/VOC_saprc_name_redlands.csv')"
   ]
  },
  {
   "cell_type": "code",
   "execution_count": 22,
   "metadata": {},
   "outputs": [
    {
     "name": "stderr",
     "output_type": "stream",
     "text": [
      "c:\\Users\\Shenglun\\anaconda3\\lib\\site-packages\\pandas\\core\\indexing.py:1773: SettingWithCopyWarning: \n",
      "A value is trying to be set on a copy of a slice from a DataFrame.\n",
      "Try using .loc[row_indexer,col_indexer] = value instead\n",
      "\n",
      "See the caveats in the documentation: https://pandas.pydata.org/pandas-docs/stable/user_guide/indexing.html#returning-a-view-versus-a-copy\n",
      "  self._setitem_single_column(ilocs[0], value, pi)\n",
      "c:\\Users\\Shenglun\\anaconda3\\lib\\site-packages\\pandas\\core\\indexing.py:1817: SettingWithCopyWarning: \n",
      "A value is trying to be set on a copy of a slice from a DataFrame.\n",
      "Try using .loc[row_indexer,col_indexer] = value instead\n",
      "\n",
      "See the caveats in the documentation: https://pandas.pydata.org/pandas-docs/stable/user_guide/indexing.html#returning-a-view-versus-a-copy\n",
      "  self._setitem_single_column(loc, value, pi)\n"
     ]
    }
   ],
   "source": [
    "# correct HCHO and CCHO\n",
    "df_VOC_redlands.loc[df_VOC_redlands['Parameter']=='Formaldehyde', ('Value')]=\\\n",
    "    df_VOC_redlands.loc[df_VOC_redlands['Parameter']=='Formaldehyde', ('Value')]*4.165*0.9\n",
    "df_VOC_redlands.loc[df_VOC_redlands['Parameter']=='Acetaldehyde', ('Value')]=\\\n",
    "    df_VOC_redlands.loc[df_VOC_redlands['Parameter']=='Acetaldehyde', ('Value')]*6.00*0.66\n",
    "\n",
    "# remove Isopropanol (unrealistically large )\n",
    "df_VOC_redlands.loc[df_VOC_redlands['Parameter']=='Isopropanol', ('Value')]=np.nan"
   ]
  },
  {
   "cell_type": "code",
   "execution_count": 10,
   "metadata": {},
   "outputs": [],
   "source": [
    "# categorize VOCs into SAPRC species and save df_saprc_redlands\n",
    "df_VOC_saprc = df_VOC_redlands.\\\n",
    "    merge(df_saprc_name_redlands[['Parameter','SAPRC']], on='Parameter', how='left')\n",
    "df_VOC_saprc = df_VOC_saprc.groupby(['Sample date','SAPRC']).\\\n",
    "    agg({'Value':'sum'}).reset_index()\n",
    "df_VOC_saprc['Value'] = df_VOC_saprc['Value']\n",
    "\n",
    "# fill NaN concentration as LOD/3 (LOD = min(conc)/3) and constran large MeOH\n",
    "for i in df_VOC_saprc['SAPRC'].unique():\n",
    "    conc_min = np.min(df_VOC_saprc[(df_VOC_saprc['SAPRC']==i)&\n",
    "                                   (df_VOC_saprc['Value']!=0)]['Value'])\n",
    "    conc_max = np.max(df_VOC_saprc[(df_VOC_saprc['SAPRC']==i)&(df_VOC_saprc['Value']!=0)&\n",
    "                                   (df_VOC_saprc['Value']>500)]['Value'])\n",
    "    \n",
    "    df_VOC_saprc.loc[(df_VOC_saprc['SAPRC']==i)&\n",
    "                     (~(df_VOC_saprc['Value']>0)), 'Value'] = conc_min/3\n",
    "    df_VOC_saprc.loc[(df_VOC_saprc['SAPRC']=='MEOH')&\n",
    "                     (df_VOC_saprc['Value']>500), 'Value'] = conc_max\n",
    "\n",
    "df_VOC_saprc.columns = ['Date','S11','Value']\n",
    "df_saprc_redlands = df_VOC_saprc\n",
    "df_saprc_redlands.to_csv('../../data/intermediate/saprc11_initial_conc_redlands.csv',\n",
    "                          index=False)"
   ]
  },
  {
   "cell_type": "markdown",
   "metadata": {},
   "source": [
    "## PTR-MS measured VOC"
   ]
  },
  {
   "cell_type": "code",
   "execution_count": 9,
   "metadata": {},
   "outputs": [],
   "source": [
    "df_PTR_redlands = pd.read_csv('../../data/raw/CARB_PTR_redlands.txt')\n",
    "df_PTR_redlands['dates'] = pd.to_datetime(df_PTR_redlands['dates'])\n",
    "\n",
    "df_temp_redlands = pd.read_csv('../../data/final/temp_morning_daily_avg_redlands.csv')\n",
    "df_temp_redlands['Date'] = pd.to_datetime(df_temp_redlands['Date'])"
   ]
  },
  {
   "cell_type": "code",
   "execution_count": 10,
   "metadata": {},
   "outputs": [],
   "source": [
    "# fill NAN and 0 by min/3\n",
    "for i in df_PTR_redlands.columns[1:]:\n",
    "    min_value = min(df_PTR_redlands.loc[df_PTR_redlands[i]>0,i])   \n",
    "    df_PTR_redlands.loc[~(df_PTR_redlands[i]>0),i] = min_value/3"
   ]
  },
  {
   "cell_type": "code",
   "execution_count": 11,
   "metadata": {},
   "outputs": [],
   "source": [
    "df_PTR_redlands.to_csv('../../data/final/CARB_PTR_redlands.csv', index=False)"
   ]
  },
  {
   "cell_type": "markdown",
   "metadata": {},
   "source": [
    "# Get list of all VOCs"
   ]
  },
  {
   "cell_type": "code",
   "execution_count": 4,
   "metadata": {},
   "outputs": [],
   "source": [
    "df_saprc_redlands = pd.read_csv('../../data/intermediate/saprc11_initial_conc_redlands.csv')\n",
    "df_PTR_redlands = pd.read_csv('../../data/final/CARB_PTR_redlands.csv')"
   ]
  },
  {
   "cell_type": "code",
   "execution_count": 19,
   "metadata": {},
   "outputs": [
    {
     "data": {
      "text/html": [
       "<div>\n",
       "<style scoped>\n",
       "    .dataframe tbody tr th:only-of-type {\n",
       "        vertical-align: middle;\n",
       "    }\n",
       "\n",
       "    .dataframe tbody tr th {\n",
       "        vertical-align: top;\n",
       "    }\n",
       "\n",
       "    .dataframe thead tr th {\n",
       "        text-align: left;\n",
       "    }\n",
       "\n",
       "    .dataframe thead tr:last-of-type th {\n",
       "        text-align: right;\n",
       "    }\n",
       "</style>\n",
       "<table border=\"1\" class=\"dataframe\">\n",
       "  <thead>\n",
       "    <tr>\n",
       "      <th></th>\n",
       "      <th colspan=\"5\" halign=\"left\">Value</th>\n",
       "    </tr>\n",
       "    <tr>\n",
       "      <th></th>\n",
       "      <th>min</th>\n",
       "      <th>max</th>\n",
       "      <th>mean</th>\n",
       "      <th>std</th>\n",
       "      <th>median</th>\n",
       "    </tr>\n",
       "    <tr>\n",
       "      <th>Parameter</th>\n",
       "      <th></th>\n",
       "      <th></th>\n",
       "      <th></th>\n",
       "      <th></th>\n",
       "      <th></th>\n",
       "    </tr>\n",
       "  </thead>\n",
       "  <tbody>\n",
       "    <tr>\n",
       "      <th>Acetone</th>\n",
       "      <td>1.411143</td>\n",
       "      <td>8.309027</td>\n",
       "      <td>4.042603</td>\n",
       "      <td>1.674688</td>\n",
       "      <td>3.804326</td>\n",
       "    </tr>\n",
       "    <tr>\n",
       "      <th>Acetonitrile</th>\n",
       "      <td>0.116745</td>\n",
       "      <td>0.285546</td>\n",
       "      <td>0.176158</td>\n",
       "      <td>0.035255</td>\n",
       "      <td>0.172290</td>\n",
       "    </tr>\n",
       "    <tr>\n",
       "      <th>Acrylonitrile</th>\n",
       "      <td>0.000014</td>\n",
       "      <td>0.010235</td>\n",
       "      <td>0.001235</td>\n",
       "      <td>0.002576</td>\n",
       "      <td>0.000014</td>\n",
       "    </tr>\n",
       "    <tr>\n",
       "      <th>Benzene</th>\n",
       "      <td>0.000053</td>\n",
       "      <td>3.021173</td>\n",
       "      <td>0.177358</td>\n",
       "      <td>0.561231</td>\n",
       "      <td>0.022152</td>\n",
       "    </tr>\n",
       "    <tr>\n",
       "      <th>D4</th>\n",
       "      <td>0.000171</td>\n",
       "      <td>0.008493</td>\n",
       "      <td>0.002457</td>\n",
       "      <td>0.001755</td>\n",
       "      <td>0.002451</td>\n",
       "    </tr>\n",
       "    <tr>\n",
       "      <th>D5</th>\n",
       "      <td>0.000424</td>\n",
       "      <td>0.021805</td>\n",
       "      <td>0.008291</td>\n",
       "      <td>0.005705</td>\n",
       "      <td>0.007814</td>\n",
       "    </tr>\n",
       "    <tr>\n",
       "      <th>Ethanol</th>\n",
       "      <td>0.637515</td>\n",
       "      <td>7.841174</td>\n",
       "      <td>3.980247</td>\n",
       "      <td>2.289900</td>\n",
       "      <td>3.838503</td>\n",
       "    </tr>\n",
       "    <tr>\n",
       "      <th>Isoprene</th>\n",
       "      <td>0.114864</td>\n",
       "      <td>1.131562</td>\n",
       "      <td>0.588730</td>\n",
       "      <td>0.259808</td>\n",
       "      <td>0.624298</td>\n",
       "    </tr>\n",
       "    <tr>\n",
       "      <th>MEK</th>\n",
       "      <td>0.000335</td>\n",
       "      <td>8.798581</td>\n",
       "      <td>0.812687</td>\n",
       "      <td>1.980416</td>\n",
       "      <td>0.005774</td>\n",
       "    </tr>\n",
       "    <tr>\n",
       "      <th>MVK</th>\n",
       "      <td>0.030149</td>\n",
       "      <td>1.539817</td>\n",
       "      <td>0.335372</td>\n",
       "      <td>0.259159</td>\n",
       "      <td>0.297522</td>\n",
       "    </tr>\n",
       "    <tr>\n",
       "      <th>Trimethylbenzene</th>\n",
       "      <td>0.005196</td>\n",
       "      <td>0.252511</td>\n",
       "      <td>0.068178</td>\n",
       "      <td>0.056839</td>\n",
       "      <td>0.060309</td>\n",
       "    </tr>\n",
       "    <tr>\n",
       "      <th>Xylene</th>\n",
       "      <td>0.024997</td>\n",
       "      <td>0.449438</td>\n",
       "      <td>0.166238</td>\n",
       "      <td>0.098639</td>\n",
       "      <td>0.157707</td>\n",
       "    </tr>\n",
       "    <tr>\n",
       "      <th>a-Pinene</th>\n",
       "      <td>0.048977</td>\n",
       "      <td>0.254069</td>\n",
       "      <td>0.141292</td>\n",
       "      <td>0.054529</td>\n",
       "      <td>0.133166</td>\n",
       "    </tr>\n",
       "    <tr>\n",
       "      <th>b-Caryophyllene</th>\n",
       "      <td>0.006388</td>\n",
       "      <td>0.073305</td>\n",
       "      <td>0.022723</td>\n",
       "      <td>0.014681</td>\n",
       "      <td>0.021245</td>\n",
       "    </tr>\n",
       "  </tbody>\n",
       "</table>\n",
       "</div>"
      ],
      "text/plain": [
       "                     Value                                        \n",
       "                       min       max      mean       std    median\n",
       "Parameter                                                         \n",
       "Acetone           1.411143  8.309027  4.042603  1.674688  3.804326\n",
       "Acetonitrile      0.116745  0.285546  0.176158  0.035255  0.172290\n",
       "Acrylonitrile     0.000014  0.010235  0.001235  0.002576  0.000014\n",
       "Benzene           0.000053  3.021173  0.177358  0.561231  0.022152\n",
       "D4                0.000171  0.008493  0.002457  0.001755  0.002451\n",
       "D5                0.000424  0.021805  0.008291  0.005705  0.007814\n",
       "Ethanol           0.637515  7.841174  3.980247  2.289900  3.838503\n",
       "Isoprene          0.114864  1.131562  0.588730  0.259808  0.624298\n",
       "MEK               0.000335  8.798581  0.812687  1.980416  0.005774\n",
       "MVK               0.030149  1.539817  0.335372  0.259159  0.297522\n",
       "Trimethylbenzene  0.005196  0.252511  0.068178  0.056839  0.060309\n",
       "Xylene            0.024997  0.449438  0.166238  0.098639  0.157707\n",
       "a-Pinene          0.048977  0.254069  0.141292  0.054529  0.133166\n",
       "b-Caryophyllene   0.006388  0.073305  0.022723  0.014681  0.021245"
      ]
     },
     "execution_count": 19,
     "metadata": {},
     "output_type": "execute_result"
    }
   ],
   "source": [
    "# reshape PTR data\n",
    "df_melt = df_PTR_redlands.melt(id_vars=['dates'], var_name='Parameter', value_name='Value')\n",
    "df_melt.groupby('Parameter').agg({'Value':['min','max','mean','std','median']})"
   ]
  },
  {
   "cell_type": "code",
   "execution_count": 24,
   "metadata": {},
   "outputs": [],
   "source": [
    "# groupby Parameter and agg to get min, max, mean, std, median of Value\n",
    "df_VOC_redlands.groupby('Parameter').agg(['min','max','mean','std','median']).reset_index().to_csv('../../data/final/VOC_stat_redlands_correct-HCHO-CCHO.csv', index=False)"
   ]
  }
 ],
 "metadata": {
  "kernelspec": {
   "display_name": "base",
   "language": "python",
   "name": "python3"
  },
  "language_info": {
   "codemirror_mode": {
    "name": "ipython",
    "version": 3
   },
   "file_extension": ".py",
   "mimetype": "text/x-python",
   "name": "python",
   "nbconvert_exporter": "python",
   "pygments_lexer": "ipython3",
   "version": "3.9.7"
  },
  "orig_nbformat": 4
 },
 "nbformat": 4,
 "nbformat_minor": 2
}
