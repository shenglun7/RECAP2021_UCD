{
 "cells": [
  {
   "cell_type": "code",
   "execution_count": 1,
   "metadata": {},
   "outputs": [],
   "source": [
    "import pandas as pd\n",
    "import numpy as np\n",
    "import matplotlib.pyplot as plt"
   ]
  },
  {
   "cell_type": "code",
   "execution_count": 3,
   "metadata": {},
   "outputs": [
    {
     "data": {
      "text/html": [
       "<div>\n",
       "<style scoped>\n",
       "    .dataframe tbody tr th:only-of-type {\n",
       "        vertical-align: middle;\n",
       "    }\n",
       "\n",
       "    .dataframe tbody tr th {\n",
       "        vertical-align: top;\n",
       "    }\n",
       "\n",
       "    .dataframe thead th {\n",
       "        text-align: right;\n",
       "    }\n",
       "</style>\n",
       "<table border=\"1\" class=\"dataframe\">\n",
       "  <thead>\n",
       "    <tr style=\"text-align: right;\">\n",
       "      <th></th>\n",
       "      <th>Index</th>\n",
       "      <th>Name of SAPRC species</th>\n",
       "      <th>Pasadena Source of data</th>\n",
       "      <th>Pasadena Method</th>\n",
       "      <th>Redlands Source of data</th>\n",
       "      <th>Redlands Method</th>\n",
       "    </tr>\n",
       "  </thead>\n",
       "  <tbody>\n",
       "    <tr>\n",
       "      <th>0</th>\n",
       "      <td>1</td>\n",
       "      <td>O3</td>\n",
       "      <td>Chamber-measurement</td>\n",
       "      <td>O3 monitor</td>\n",
       "      <td>Chamber-measurement</td>\n",
       "      <td>O3 monitor</td>\n",
       "    </tr>\n",
       "    <tr>\n",
       "      <th>1</th>\n",
       "      <td>2</td>\n",
       "      <td>NO</td>\n",
       "      <td>Chamber measurement</td>\n",
       "      <td>NOx monitor</td>\n",
       "      <td>Chamber measurement</td>\n",
       "      <td>NOx monitor</td>\n",
       "    </tr>\n",
       "    <tr>\n",
       "      <th>2</th>\n",
       "      <td>3</td>\n",
       "      <td>NO2</td>\n",
       "      <td>Chamber measurement</td>\n",
       "      <td>NOx monitor</td>\n",
       "      <td>Chamber measurement</td>\n",
       "      <td>NOx monitor</td>\n",
       "    </tr>\n",
       "    <tr>\n",
       "      <th>3</th>\n",
       "      <td>4</td>\n",
       "      <td>NO3</td>\n",
       "      <td>Grid cell model</td>\n",
       "      <td>NaN</td>\n",
       "      <td>Grid cell model</td>\n",
       "      <td>NaN</td>\n",
       "    </tr>\n",
       "    <tr>\n",
       "      <th>4</th>\n",
       "      <td>5</td>\n",
       "      <td>N2O5</td>\n",
       "      <td>Ambient measurement</td>\n",
       "      <td>ICIMS</td>\n",
       "      <td>Grid cell model</td>\n",
       "      <td>NaN</td>\n",
       "    </tr>\n",
       "  </tbody>\n",
       "</table>\n",
       "</div>"
      ],
      "text/plain": [
       "   Index Name of SAPRC species Pasadena Source of data Pasadena Method  \\\n",
       "0      1                    O3     Chamber-measurement      O3 monitor   \n",
       "1      2                    NO     Chamber measurement     NOx monitor   \n",
       "2      3                   NO2     Chamber measurement     NOx monitor   \n",
       "3      4                   NO3         Grid cell model             NaN   \n",
       "4      5                  N2O5     Ambient measurement           ICIMS   \n",
       "\n",
       "  Redlands Source of data Redlands Method  \n",
       "0     Chamber-measurement      O3 monitor  \n",
       "1     Chamber measurement     NOx monitor  \n",
       "2     Chamber measurement     NOx monitor  \n",
       "3         Grid cell model             NaN  \n",
       "4         Grid cell model             NaN  "
      ]
     },
     "execution_count": 3,
     "metadata": {},
     "output_type": "execute_result"
    }
   ],
   "source": [
    "df = pd.read_csv('../../data/final/box_model_input_data_source.csv')\n",
    "df.head()"
   ]
  },
  {
   "cell_type": "code",
   "execution_count": 26,
   "metadata": {},
   "outputs": [
    {
     "name": "stdout",
     "output_type": "stream",
     "text": [
      "Number of species in Redlands from CTM:  49\n",
      "4, 7, 8, 9, 10, 11, 12, 13, 16, 17, 18, 19, 21, 25, 29, 33, 40, 42, 45, 47, 48, 49, 50, 51, 53, 55, 56, 63, 64, 65, 66, 67, 68, 69, 70, 71, 72, 74, 75, 81, 83, 93, 94, 95, 96, 97, 98, 99, 100\n"
     ]
    }
   ],
   "source": [
    "list_index = df[(df['Pasadena Source of data']=='Grid cell model')&\n",
    "                ~(df['Name of SAPRC species'].str.contains('RXN'))]['Index'].astype(str).to_list()\n",
    "print(\"Number of species in Redlands from CTM: \", len(list_index))\n",
    "print(\", \".join(list_index))"
   ]
  },
  {
   "cell_type": "code",
   "execution_count": 25,
   "metadata": {},
   "outputs": [
    {
     "name": "stdout",
     "output_type": "stream",
     "text": [
      "Number of species in Redlands from CTM:  56\n",
      "4, 5, 6, 7, 8, 9, 10, 12, 13, 14, 15, 16, 17, 18, 19, 20, 21, 25, 29, 33, 40, 42, 45, 47, 49, 50, 51, 52, 53, 54, 55, 56, 62, 63, 64, 66, 67, 69, 70, 71, 72, 73, 74, 75, 79, 81, 83, 84, 93, 94, 95, 96, 97, 98, 99, 100\n"
     ]
    }
   ],
   "source": [
    "list_index = df[(df['Redlands Source of data']=='Grid cell model')&\n",
    "                ~(df['Name of SAPRC species'].str.contains('RXN'))]['Index'].astype(str).to_list()\n",
    "print(\"Number of species in Redlands from CTM: \", len(list_index))\n",
    "print(\", \".join(list_index))"
   ]
  }
 ],
 "metadata": {
  "kernelspec": {
   "display_name": "base",
   "language": "python",
   "name": "python3"
  },
  "language_info": {
   "codemirror_mode": {
    "name": "ipython",
    "version": 3
   },
   "file_extension": ".py",
   "mimetype": "text/x-python",
   "name": "python",
   "nbconvert_exporter": "python",
   "pygments_lexer": "ipython3",
   "version": "3.9.7"
  }
 },
 "nbformat": 4,
 "nbformat_minor": 2
}
