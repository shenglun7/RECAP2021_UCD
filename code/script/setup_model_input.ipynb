{
 "cells": [
  {
   "cell_type": "markdown",
   "metadata": {},
   "source": [
    "This script will generate input file for chamber box model. "
   ]
  },
  {
   "cell_type": "code",
   "execution_count": 2,
   "metadata": {},
   "outputs": [],
   "source": [
    "import os, importlib, sys\n",
    "import pandas as pd\n",
    "import numpy as np\n",
    "import matplotlib.pyplot as plt\n",
    "from scipy import stats\n",
    "from sklearn.linear_model import LinearRegression\n",
    "\n",
    "sys.path.insert(0, '../../code/src')\n",
    "#importlib.reload(sys.modules['get_model_input'])\n",
    "from get_model_input import replace_CTM_by_measurement\n",
    "from get_model_input import change_format_saprc\n",
    "from get_model_input import save_saprc_txt"
   ]
  },
  {
   "cell_type": "code",
   "execution_count": 3,
   "metadata": {},
   "outputs": [],
   "source": [
    "# get temperature\n",
    "df_temp_pasadena = pd.read_csv('../../data/final/temp_morning_daily_avg_pasadena.csv')\n",
    "df_temp_redlands = pd.read_csv('../../data/final/temp_morning_daily_avg_redlands.csv')\n",
    "df_temp_pasadena['Date'] = pd.to_datetime(df_temp_pasadena['Date'])\n",
    "df_temp_redlands['Date'] = pd.to_datetime(df_temp_redlands['Date'])"
   ]
  },
  {
   "cell_type": "markdown",
   "metadata": {},
   "source": [
    "## Update CTM data"
   ]
  },
  {
   "cell_type": "markdown",
   "metadata": {},
   "source": [
    "#### Pasadena"
   ]
  },
  {
   "cell_type": "code",
   "execution_count": 4,
   "metadata": {},
   "outputs": [],
   "source": [
    "# get measured SAPRC data (NOAA measurement is only availble between 8/7/2021 ~ 9/6/2021)\n",
    "df_saprc_pasadena = pd.read_csv('../../data/intermediate/saprc11_initial_conc_pasadena.csv')\n",
    "df_saprc_pasadena['Date'] = pd.to_datetime(df_saprc_pasadena['Date'])\n",
    "df_saprc_pasadena = df_saprc_pasadena[(df_saprc_pasadena['Date']>='2021-08-07')&\n",
    "                                      (df_saprc_pasadena['Date']<='2021-09-06')]"
   ]
  },
  {
   "cell_type": "code",
   "execution_count": 5,
   "metadata": {},
   "outputs": [
    {
     "name": "stdout",
     "output_type": "stream",
     "text": [
      "skip  2021-08-30 00:00:00\n",
      "skip  2021-08-31 00:00:00\n"
     ]
    }
   ],
   "source": [
    "## generate input SAPRC file for Pasadena\n",
    "list_date_pasadena = df_saprc_pasadena['Date'].dt.date.unique()\n",
    "\n",
    "for date in list_date_pasadena:\n",
    "    date = pd.to_datetime(date)\n",
    "    date_2020 = date + pd.offsets.DateOffset(days=1) # date for 2020 CTM data\n",
    "    if date_2020.day<2 or date_2020.day>30: \n",
    "        print('skip ', date) \n",
    "    else:  \n",
    "        # open daily airshed data file\n",
    "        filepath_CTM = '../../data/raw/CTM_2020/pasadena_4km_2020' + \\\n",
    "            date_2020.strftime('%m%d') + '_11.txt'\n",
    "        df_CTM = pd.read_csv(filepath_CTM, skiprows=2, delim_whitespace=True)\n",
    "        df_CTM['target'] = df_CTM['target'].str.strip() # delete any space in str\n",
    "\n",
    "        # get daily measured saprc, replace CTM by measurement\n",
    "        df_saprc_daily = df_saprc_pasadena[df_saprc_pasadena['Date']==date].\\\n",
    "            reset_index(drop=True)  \n",
    "        df_saprc_daily[df_saprc_daily['S11']=='ACET']['Value']\n",
    "        df_saprc_new = replace_CTM_by_measurement(df_CTM, df_saprc_daily, 'pasadena')\n",
    "\n",
    "        # correct H2O2   \n",
    "        if(date == pd.to_datetime('2021-09-01')):\n",
    "            temp = 21\n",
    "        else:\n",
    "            temp = df_temp_pasadena.loc[df_temp_pasadena['Date']==date, 'Value'].values[0]\n",
    "        df_saprc_new.loc[df_saprc_new['target']=='HO2H','grid'] = \\\n",
    "            np.exp(temp*0.07-1.79)/1000\n",
    "\n",
    "        df_saprc_new_format = change_format_saprc(df_saprc_new)\n",
    "        save_saprc_txt(df_saprc_new_format, date, 'Pasadena')"
   ]
  },
  {
   "cell_type": "markdown",
   "metadata": {},
   "source": [
    "#### Redlands"
   ]
  },
  {
   "cell_type": "code",
   "execution_count": 161,
   "metadata": {},
   "outputs": [],
   "source": [
    "df_saprc_redlands = pd.read_csv('../../data/intermediate/saprc11_initial_conc_redlands.csv')\n",
    "df_saprc_redlands['Date'] = pd.to_datetime(df_saprc_redlands['Date'])\n",
    "\n",
    "df_CO_redlands = pd.read_csv('../../data/final/CO_morning_daily_redlands.csv')\n",
    "df_CO_redlands['Date'] = pd.to_datetime(df_CO_redlands['Date'])\n",
    "\n",
    "df_PTR_redlands = pd.read_csv('../../data/final/CARB_PTR_redlands.csv')\n",
    "df_PTR_redlands['dates'] = pd.to_datetime(df_PTR_redlands['dates'])"
   ]
  },
  {
   "cell_type": "code",
   "execution_count": 177,
   "metadata": {},
   "outputs": [
    {
     "name": "stdout",
     "output_type": "stream",
     "text": [
      "saved for  2021-07-10 00:00:00\n",
      "saved for  2021-07-11 00:00:00\n",
      "saved for  2021-07-12 00:00:00\n",
      "saved for  2021-07-13 00:00:00\n",
      "saved for  2021-07-14 00:00:00\n",
      "saved for  2021-07-15 00:00:00\n",
      "saved for  2021-07-16 00:00:00\n",
      "saved for  2021-07-17 00:00:00\n",
      "saved for  2021-07-18 00:00:00\n",
      "saved for  2021-07-19 00:00:00\n",
      "saved for  2021-07-20 00:00:00\n",
      "saved for  2021-07-21 00:00:00\n",
      "saved for  2021-07-22 00:00:00\n",
      "saved for  2021-07-23 00:00:00\n",
      "saved for  2021-07-24 00:00:00\n",
      "saved for  2021-07-25 00:00:00\n",
      "saved for  2021-07-26 00:00:00\n",
      "saved for  2021-07-27 00:00:00\n",
      "saved for  2021-07-28 00:00:00\n",
      "saved for  2021-07-29 00:00:00\n",
      "skip  2021-07-30 00:00:00\n",
      "skip  2021-07-31 00:00:00\n",
      "saved for  2021-08-01 00:00:00\n",
      "saved for  2021-08-02 00:00:00\n",
      "saved for  2021-08-03 00:00:00\n",
      "saved for  2021-08-04 00:00:00\n",
      "saved for  2021-08-05 00:00:00\n",
      "saved for  2021-08-06 00:00:00\n",
      "saved for  2021-08-07 00:00:00\n",
      "saved for  2021-08-08 00:00:00\n",
      "saved for  2021-08-09 00:00:00\n",
      "saved for  2021-08-10 00:00:00\n",
      "saved for  2021-08-11 00:00:00\n",
      "saved for  2021-08-12 00:00:00\n",
      "saved for  2021-08-13 00:00:00\n",
      "saved for  2021-08-14 00:00:00\n",
      "saved for  2021-08-15 00:00:00\n",
      "saved for  2021-08-16 00:00:00\n",
      "saved for  2021-08-17 00:00:00\n",
      "saved for  2021-08-18 00:00:00\n",
      "saved for  2021-08-19 00:00:00\n",
      "saved for  2021-08-20 00:00:00\n",
      "saved for  2021-08-21 00:00:00\n",
      "saved for  2021-08-22 00:00:00\n",
      "saved for  2021-08-23 00:00:00\n",
      "saved for  2021-08-24 00:00:00\n",
      "saved for  2021-08-25 00:00:00\n",
      "saved for  2021-08-26 00:00:00\n",
      "saved for  2021-08-27 00:00:00\n",
      "saved for  2021-08-28 00:00:00\n",
      "saved for  2021-08-29 00:00:00\n",
      "skip  2021-08-30 00:00:00\n",
      "skip  2021-08-31 00:00:00\n",
      "saved for  2021-09-01 00:00:00\n",
      "saved for  2021-09-02 00:00:00\n",
      "saved for  2021-09-03 00:00:00\n",
      "saved for  2021-09-04 00:00:00\n",
      "saved for  2021-09-05 00:00:00\n",
      "saved for  2021-09-06 00:00:00\n",
      "saved for  2021-09-07 00:00:00\n",
      "saved for  2021-09-08 00:00:00\n",
      "saved for  2021-09-09 00:00:00\n",
      "saved for  2021-09-10 00:00:00\n",
      "saved for  2021-09-11 00:00:00\n",
      "saved for  2021-09-12 00:00:00\n",
      "saved for  2021-09-13 00:00:00\n",
      "saved for  2021-09-14 00:00:00\n",
      "saved for  2021-09-15 00:00:00\n",
      "saved for  2021-09-16 00:00:00\n",
      "saved for  2021-09-17 00:00:00\n",
      "saved for  2021-09-18 00:00:00\n",
      "saved for  2021-09-19 00:00:00\n",
      "saved for  2021-09-20 00:00:00\n",
      "saved for  2021-09-21 00:00:00\n",
      "saved for  2021-09-22 00:00:00\n",
      "saved for  2021-09-23 00:00:00\n",
      "saved for  2021-09-24 00:00:00\n",
      "saved for  2021-09-25 00:00:00\n",
      "saved for  2021-09-26 00:00:00\n",
      "saved for  2021-09-27 00:00:00\n",
      "saved for  2021-09-28 00:00:00\n",
      "saved for  2021-09-29 00:00:00\n",
      "skip  2021-09-30 00:00:00\n",
      "saved for  2021-10-01 00:00:00\n",
      "saved for  2021-10-02 00:00:00\n",
      "saved for  2021-10-03 00:00:00\n",
      "saved for  2021-10-04 00:00:00\n",
      "saved for  2021-10-05 00:00:00\n",
      "saved for  2021-10-06 00:00:00\n",
      "saved for  2021-10-07 00:00:00\n",
      "saved for  2021-10-08 00:00:00\n",
      "saved for  2021-10-09 00:00:00\n",
      "saved for  2021-10-10 00:00:00\n",
      "saved for  2021-10-11 00:00:00\n",
      "saved for  2021-10-12 00:00:00\n",
      "saved for  2021-10-13 00:00:00\n",
      "saved for  2021-10-14 00:00:00\n",
      "saved for  2021-10-15 00:00:00\n",
      "saved for  2021-10-16 00:00:00\n",
      "saved for  2021-10-17 00:00:00\n",
      "saved for  2021-10-18 00:00:00\n",
      "saved for  2021-10-19 00:00:00\n",
      "saved for  2021-10-20 00:00:00\n",
      "saved for  2021-10-21 00:00:00\n",
      "saved for  2021-10-22 00:00:00\n",
      "saved for  2021-10-23 00:00:00\n",
      "saved for  2021-10-24 00:00:00\n",
      "saved for  2021-10-25 00:00:00\n",
      "saved for  2021-10-26 00:00:00\n",
      "saved for  2021-10-27 00:00:00\n",
      "saved for  2021-10-28 00:00:00\n",
      "saved for  2021-10-29 00:00:00\n",
      "skip  2021-10-30 00:00:00\n",
      "skip  2021-10-31 00:00:00\n"
     ]
    }
   ],
   "source": [
    "## generate input SAPRC file for Redlands\n",
    "list_date_redlands = pd.to_datetime(df_saprc_redlands['Date'].unique())\n",
    "\n",
    "for date in list_date_redlands:\n",
    "    date_2020 = date + pd.offsets.DateOffset(days=1) # date for 2020 CTM data\n",
    "    if date_2020.day<2 or date_2020.day>30: \n",
    "        print('skip ', date) \n",
    "    else:  \n",
    "        # open daily airshed data file\n",
    "        filepath_CTM = '../../data/raw/CTM_2020/redlands_4km_2020' + \\\n",
    "            date_2020.strftime('%m%d') + '_11.txt'\n",
    "        df_CTM = pd.read_csv(filepath_CTM, skiprows=2, delim_whitespace=True)\n",
    "        df_CTM['target'] = df_CTM['target'].str.strip() # delete any space in str\n",
    "\n",
    "        # get daily measured saprc, replace CTM by measurement\n",
    "        df_saprc_daily = df_saprc_redlands[df_saprc_redlands['Date']==date].\\\n",
    "            reset_index(drop=True)  \n",
    "        df_saprc_daily[df_saprc_daily['S11']=='ACET']['Value']\n",
    "        df_saprc_new = replace_CTM_by_measurement(df_CTM, df_saprc_daily, 'redlands')\n",
    "\n",
    "        # correct CO\n",
    "        CO = df_CO_redlands.loc[df_CO_redlands['Date']==date, 'Value'].values[0]\n",
    "        df_saprc_new.loc[df_saprc_new['target']=='CO', 'grid'] = CO\n",
    "\n",
    "        # constrain Ethene and acetylene by CO\n",
    "        df_saprc_new.loc[df_saprc_new['target']=='ETHENE', 'grid'] = \\\n",
    "            np.exp(CO*1000*0.01-3.15)/1000\n",
    "        df_saprc_new.loc[df_saprc_new['target']=='ACET', 'grid'] = \\\n",
    "            np.exp(CO*1000*0.01-3.36)/1000\n",
    "\n",
    "        # constrain ALK1 and ALK2 by ALK3\n",
    "        alk3 = df_saprc_new.loc[df_saprc_new['target']=='ALK3', 'grid'].values[0]\n",
    "        df_saprc_new.loc[df_saprc_new['target']=='ALK1', 'grid'] = \\\n",
    "            (alk3*1000*1.87+0.36)/1000\n",
    "        df_saprc_new.loc[df_saprc_new['target']=='ALK2', 'grid'] = \\\n",
    "            (alk3*1000*0.37+0.36)/1000\n",
    "\n",
    "        # correct H2O2 and MACR by temperature\n",
    "        if date == pd.to_datetime('2021-09-10'):\n",
    "            temp=33 \n",
    "        else:           \n",
    "            temp = df_temp_redlands.loc[df_temp_redlands['Date']==date, 'Value'].values[0]\n",
    "        df_saprc_new.loc[df_saprc_new['target']=='HO2H','grid'] = \\\n",
    "            np.exp(temp*0.06-1.68)/1000\n",
    "        df_saprc_new.loc[df_saprc_new['target']=='MACR','grid'] = \\\n",
    "            np.exp(temp*0.11-5.35)/1000\n",
    "\n",
    "        # add PTR-MS measured VOC\n",
    "        if date in df_PTR_redlands['dates']:\n",
    "            df_saprc_new.loc[df_saprc_new['target']=='ISOPRENE','grid'] = \\\n",
    "                df_PTR_redlands.loc[df_PTR_redlands['dates']==date, 'Isoprene'].values[0]/1000\n",
    "            df_saprc_new.loc[df_saprc_new['target']=='TERP','grid'] = \\\n",
    "                df_PTR_redlands.loc[df_PTR_redlands['dates']==date, 'a-Pinene'].values[0]/1000*10\n",
    "            df_saprc_new.loc[df_saprc_new['target']=='MVK','grid'] = \\\n",
    "                df_PTR_redlands.loc[df_PTR_redlands['dates']==date, 'MVK'].values[0]/1000\n",
    "            df_saprc_new.loc[df_saprc_new['target']=='MEK','grid'] = \\\n",
    "                df_PTR_redlands.loc[df_PTR_redlands['dates']==date, 'MEK'].values[0]/1000\n",
    "            df_saprc_new.loc[df_saprc_new['target']=='ACET','grid'] = \\\n",
    "                df_PTR_redlands.loc[df_PTR_redlands['dates']==date, 'Acetone'].values[0]/1000\n",
    "        # if no PTR-MS available use temperature to estimate\n",
    "        else:\n",
    "            df_saprc_new.loc[df_saprc_new['target']=='ISOPRENE','grid'] = \\\n",
    "                np.exp(temp*0.1-3.52)/1000\n",
    "            df_saprc_new.loc[df_saprc_new['target']=='TERP','grid'] = \\\n",
    "                np.exp(temp*0.06-3.83)/1000*10\n",
    "            df_saprc_new.loc[df_saprc_new['target']=='MVK','grid'] = \\\n",
    "                np.exp(temp*0.11-4.57)/1000\n",
    "            df_saprc_new.loc[df_saprc_new['target']=='MEK','grid'] = \\\n",
    "                df_saprc_new.loc[df_saprc_new['target']=='MVK',\n",
    "                                 'grid'].iloc[0]*1.17+0.28/1000\n",
    "\n",
    "        df_saprc_new_format = change_format_saprc(df_saprc_new)\n",
    "        save_saprc_txt(df_saprc_new_format, date, 'redlands')\n",
    "        print('saved for ', date)"
   ]
  },
  {
   "cell_type": "markdown",
   "metadata": {},
   "source": [
    "## Setup ambient O3, NO, NO2 data"
   ]
  },
  {
   "cell_type": "markdown",
   "metadata": {},
   "source": [
    "#### Pasadena"
   ]
  },
  {
   "cell_type": "markdown",
   "metadata": {},
   "source": [
    "#### Redlands"
   ]
  }
 ],
 "metadata": {
  "kernelspec": {
   "display_name": "base",
   "language": "python",
   "name": "python3"
  },
  "language_info": {
   "codemirror_mode": {
    "name": "ipython",
    "version": 3
   },
   "file_extension": ".py",
   "mimetype": "text/x-python",
   "name": "python",
   "nbconvert_exporter": "python",
   "pygments_lexer": "ipython3",
   "version": "3.9.7"
  },
  "orig_nbformat": 4
 },
 "nbformat": 4,
 "nbformat_minor": 2
}
