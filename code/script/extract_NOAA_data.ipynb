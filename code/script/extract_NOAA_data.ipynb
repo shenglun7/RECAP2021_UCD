{
 "cells": [
  {
   "cell_type": "markdown",
   "metadata": {},
   "source": [
    "This script analyze the data collected from NOAA and CARB in Pasadena during RECAP-2021 between Aug 7 ~ Sept 6, 2021."
   ]
  },
  {
   "cell_type": "code",
   "execution_count": 2,
   "metadata": {},
   "outputs": [],
   "source": [
    "import os, importlib, sys\n",
    "from os import listdir\n",
    "from os.path import isfile, join\n",
    "import pandas as pd\n",
    "import numpy as np\n",
    "import datetime as dt\n",
    "import matplotlib.pyplot as plt\n",
    "from scipy import stats\n",
    "from sklearn.linear_model import LinearRegression\n",
    "\n",
    "sys.path.insert(0, '../../code/src')\n",
    "#importlib.reload(sys.modules['extract_aqmd_data'])\n",
    "from extract_aqmd_data import extract_ict_data"
   ]
  },
  {
   "cell_type": "markdown",
   "metadata": {},
   "source": [
    "## PTR-MS data from NOAA"
   ]
  },
  {
   "cell_type": "code",
   "execution_count": 3,
   "metadata": {},
   "outputs": [],
   "source": [
    "# get PTR-MS file ('_R1' as final version, 'cal' as calibrated species included)\n",
    "foldpath = '../../data/raw/NOAA_PTR/'\n",
    "filelist = [f for f in listdir(foldpath)\\\n",
    "             if f.endswith('_R1.ict') and 'cal' in f]\n",
    "\n",
    "df_all = pd.DataFrame(columns=['Date_pdt', 'Parameter', 'Value'])\n",
    "for i in range(len(filelist)):\n",
    "    filepath = foldpath + filelist[i]\n",
    "    #print(filepath)\n",
    "    df = extract_ict_data(filepath)\n",
    "    \n",
    "    # store in one dataframe\n",
    "    df_all = df_all.append(df)\n",
    "df_all = df_all.replace(-9999, np.nan)\n",
    "df_all['Date'] = pd.to_datetime(df_all['Date_pdt']).dt.date\n",
    "df_all['Time'] = pd.to_datetime(df_all['Date_pdt']).dt.time\n",
    "df_all.loc[pd.to_datetime(df_all['Date_pdt']).dt.weekday < 5,'Weekday'] = 'weekday'\n",
    "df_all.loc[pd.to_datetime(df_all['Date_pdt']).dt.weekday >= 5,'Weekday'] = 'weekend'\n",
    "\n",
    "# get daily average (morning)\n",
    "df_all = df_all[df_all['Value']>0]\n",
    "df_all = df_all[(df_all['Time']>=dt.time(10,0,0))&\n",
    "                        (df_all['Time']<=dt.time(12,0,0))]\n",
    "df_PTR_cal_avg = df_all.groupby(['Date','Parameter']).\\\n",
    "    agg({'Value':'mean','Weekday':'first'}).reset_index()"
   ]
  },
  {
   "cell_type": "code",
   "execution_count": 4,
   "metadata": {},
   "outputs": [],
   "source": [
    "# get PTR-MS file ('_R1' as final version, 'all' as all species included)\n",
    "foldpath = '../../data/raw/NOAA_PTR/'\n",
    "filelist = [f for f in listdir(foldpath)\\\n",
    "             if f.endswith('_R1.ict') and 'all' in f]\n",
    "\n",
    "df_all = pd.DataFrame(columns=['Date_pdt', 'Parameter', 'Value'])\n",
    "for i in range(len(filelist)):\n",
    "    filepath = foldpath + filelist[i]\n",
    "    #print(filepath)\n",
    "    df = extract_ict_data(filepath)\n",
    "    \n",
    "    # store in one dataframe\n",
    "    df_all = df_all.append(df)\n",
    "df_all = df_all.replace(-9999, np.nan)\n",
    "df_all['Date'] = pd.to_datetime(df_all['Date_pdt']).dt.date\n",
    "df_all['Time'] = pd.to_datetime(df_all['Date_pdt']).dt.time\n",
    "df_all.loc[pd.to_datetime(df_all['Date_pdt']).dt.weekday < 5,'Weekday'] = 'weekday'\n",
    "df_all.loc[pd.to_datetime(df_all['Date_pdt']).dt.weekday >= 5,'Weekday'] = 'weekend'\n",
    "\n",
    "# get daily average (morning)\n",
    "df_all = df_all[df_all['Value']>0]\n",
    "df_all = df_all[(df_all['Time']>=dt.time(10,0,0))&\n",
    "                        (df_all['Time']<=dt.time(12,0,0))]\n",
    "df_PTR_all_avg = df_all.groupby(['Date','Parameter']).\\\n",
    "    agg({'Value':'mean','Weekday':'first'}).reset_index()"
   ]
  },
  {
   "cell_type": "code",
   "execution_count": 7,
   "metadata": {},
   "outputs": [],
   "source": [
    "# replaced species with calibrated value\n",
    "for i in df_PTR_cal_avg['Parameter'].unique():\n",
    "    for j in df_PTR_cal_avg['Date'].unique():\n",
    "        df_PTR_all_avg.loc[(df_PTR_all_avg['Parameter']==i)&(df_PTR_all_avg['Date']==j),\n",
    "                           'Value'] = \\\n",
    "            df_PTR_cal_avg.loc[(df_PTR_cal_avg['Parameter']==i)&(df_PTR_cal_avg['Date']==j),\n",
    "                                'Value'].iloc[0]\n",
    "\n",
    "#df_PTR_all_avg.to_csv('../../data/intermediate/NOAA_PTR_morning_daily_avg.csv', index=False)"
   ]
  },
  {
   "cell_type": "code",
   "execution_count": 22,
   "metadata": {},
   "outputs": [],
   "source": [
    "# prepare PTR SAPRC name list\n",
    "df_PTR_species = df_PTR_all_avg.groupby('Parameter').agg({'Value':'mean'}).reset_index()\n",
    "df_PTR_species = df_PTR_species[df_PTR_species['Value']>0.005]\n",
    "\n",
    "df_name_saprc_PTR = pd.read_csv('../../data/raw/parameter_saprc_list_PTR_corrected.csv')\n",
    "df_PTR_species = df_PTR_species.merge(df_name_saprc_PTR, how='left', left_on='Parameter', right_on='Name')\n",
    "df_PTR_species = df_PTR_species[['Parameter_x','Name','Note','other name','S11','S11-2']]\n",
    "df_PTR_species.to_csv('../../data/intermediate/parameter_saprc_list_PTR_corrected.csv', index=False)"
   ]
  },
  {
   "cell_type": "markdown",
   "metadata": {},
   "source": [
    "## GC-MS from NOAA"
   ]
  },
  {
   "cell_type": "code",
   "execution_count": 5,
   "metadata": {},
   "outputs": [],
   "source": [
    "# get GC-MS file\n",
    "foldpath = '../../data/raw/NOAA_GCMS/'\n",
    "filelist = [f for f in listdir(foldpath)]\n",
    "\n",
    "df_all = pd.DataFrame(columns=['Date_pdt', 'Parameter', 'Value'])\n",
    "for i in range(len(filelist)):\n",
    "    filepath = foldpath + filelist[i]\n",
    "    #print(filepath)\n",
    "    df = extract_ict_data(filepath)\n",
    "    \n",
    "    # store in one dataframe\n",
    "    df_all = df_all.append(df)\n",
    "df_all = df_all.replace(-9999, np.nan)\n",
    "df_all['Date'] = pd.to_datetime(df_all['Date_pdt']).dt.date\n",
    "df_all['Time'] = pd.to_datetime(df_all['Date_pdt']).dt.time\n",
    "df_all.loc[pd.to_datetime(df_all['Date_pdt']).dt.weekday < 5,'Weekday'] = 'weekday'\n",
    "df_all.loc[pd.to_datetime(df_all['Date_pdt']).dt.weekday >= 5,'Weekday'] = 'weekend'\n",
    "\n",
    "# get daily average (morning)\n",
    "df_all = df_all[df_all['Value']>0]\n",
    "df_all = df_all[(df_all['Time']>=dt.time(10,0,0))&\n",
    "                        (df_all['Time']<=dt.time(12,0,0))]\n",
    "df_GCMS_all_avg = df_all.groupby(['Date','Parameter']).\\\n",
    "    agg({'Value':'mean','Weekday':'first'}).reset_index()\n",
    "\n",
    "#df_GCMS_all_avg.to_csv('../../data/intermediate/NOAA_GCMS_morning_daily_avg.csv',\n",
    "#                        index=False)"
   ]
  },
  {
   "cell_type": "markdown",
   "metadata": {},
   "source": [
    "## NOAA NOxNOyO3"
   ]
  },
  {
   "cell_type": "code",
   "execution_count": 8,
   "metadata": {},
   "outputs": [],
   "source": [
    "foldpath = '../../data/raw/NOAA_NOxNOyO3/'\n",
    "filelist = [f for f in listdir(foldpath)]\n",
    "\n",
    "df_all = pd.DataFrame(columns=['Date_pdt', 'Parameter', 'Value'])\n",
    "for i in range(len(filelist)):\n",
    "    filepath = foldpath + filelist[i]\n",
    "    #print(filepath)\n",
    "    df = extract_ict_data(filepath)\n",
    "    \n",
    "    # store in one dataframe\n",
    "    df_all = df_all.append(df)\n",
    "df_all = df_all.replace(-9999, np.nan)\n",
    "df_all['Date'] = pd.to_datetime(df_all['Date_pdt']).dt.date\n",
    "df_all['Time'] = pd.to_datetime(df_all['Date_pdt']).dt.time\n",
    "df_all.loc[pd.to_datetime(df_all['Date_pdt']).dt.weekday < 5,'Weekday'] = 'weekday'\n",
    "df_all.loc[pd.to_datetime(df_all['Date_pdt']).dt.weekday >= 5,'Weekday'] = 'weekend'\n",
    "\n",
    "# get daily average (morning)\n",
    "df_all = df_all[df_all['Value']>0]\n",
    "df_all = df_all[(df_all['Time']>=dt.time(10,0,0))&\n",
    "                        (df_all['Time']<=dt.time(12,0,0))]\n",
    "df_NOxNOyO3_all_avg = df_all.groupby(['Date','Parameter']).\\\n",
    "    agg({'Value':'mean','Weekday':'first'}).reset_index()\n",
    "\n",
    "#df_NOxNOyO3_all_avg.to_csv('../../data/intermediate/NOAA_NOxNOyO3_morning_daily_avg.csv',\n",
    "#                           index=False)"
   ]
  },
  {
   "cell_type": "markdown",
   "metadata": {},
   "source": [
    "#### Get NOx time series on Peak NOx day as quality check"
   ]
  },
  {
   "cell_type": "code",
   "execution_count": 2,
   "metadata": {},
   "outputs": [],
   "source": [
    "from extract_aqmd_data import get_hourly_aqmd\n",
    "df_NOx_aqmd = get_hourly_aqmd('../../data/raw/AQMD/NOX_PICKDATA_2021-12-31_PA.csv')\n",
    "\n",
    "# convert number of Hour to pd.datetime\n",
    "df_NOx_aqmd['Datetime'] = pd.to_datetime(df_NOx_aqmd['Date'].dt.strftime('%Y%m%d') + \n",
    "                                         df_NOx_aqmd['Hour'].astype('int').astype('str'),\n",
    "                                         format='%Y%m%d%H') + pd.Timedelta(hours=0.5)"
   ]
  },
  {
   "cell_type": "code",
   "execution_count": 5,
   "metadata": {},
   "outputs": [
    {
     "name": "stderr",
     "output_type": "stream",
     "text": [
      "c:\\Users\\Shenglun\\anaconda3\\lib\\site-packages\\pandas\\core\\ops\\array_ops.py:73: FutureWarning: Comparison of Timestamp with datetime.date is deprecated in order to match the standard library behavior.  In a future version these will be considered non-comparable.Use 'ts == pd.Timestamp(date)' or 'ts.date() == date' instead.\n",
      "  result = libops.scalar_compare(x.ravel(), y, op)\n"
     ]
    },
    {
     "data": {
      "image/png": "[encoded data removed]",
      "text/plain": [
       "<Figure size 288x144 with 1 Axes>"
      ]
     },
     "metadata": {
      "needs_background": "light"
     },
     "output_type": "display_data"
    }
   ],
   "source": [
    "df_plot = df_all[(df_all['Date']==pd.to_datetime('2021-08-11'))&\n",
    "                 (df_all['Parameter'].isin(['NO2_ppbv','NO_ppbv']))].\\\n",
    "    groupby('Date_pdt').agg({'Time':'first','Value':'sum'}).reset_index()\n",
    "df_aqmd = df_NOx_aqmd[df_NOx_aqmd['Date']=='2021-08-11']\n",
    "\n",
    "fig, ax=plt.subplots(figsize=(4,2))\n",
    "ax.plot(pd.to_datetime(df_plot['Date_pdt']), df_plot['Value'], label='Pasadena site')\n",
    "ax.scatter(df_aqmd['Datetime'], df_aqmd['Value']*1000, label='AQMD', color='red')\n",
    "\n",
    "ax.legend(loc='upper right', fontsize=8)\n",
    "plt.xticks(rotation=30)\n",
    "# add shaded area between 10AM and 12PM\n",
    "ax.axvspan(pd.to_datetime('2021-08-11 10:10:00'), pd.to_datetime('2021-08-11 12:00:00'), \n",
    "           alpha=0.5, color='grey')\n",
    "\n",
    "ax.set_xlabel('Time (PDT)')\n",
    "ax.set_ylabel('$NO_x$ (ppbv)')\n",
    "ax.set_title('2021-08-11')\n",
    "fig.savefig('../../result/time_series_NOx_check_2021-08-11.png', dpi=1200, bbox_inches='tight', facecolor='white')"
   ]
  },
  {
   "cell_type": "code",
   "execution_count": 6,
   "metadata": {},
   "outputs": [
    {
     "name": "stderr",
     "output_type": "stream",
     "text": [
      "c:\\Users\\Shenglun\\anaconda3\\lib\\site-packages\\pandas\\core\\ops\\array_ops.py:73: FutureWarning: Comparison of Timestamp with datetime.date is deprecated in order to match the standard library behavior.  In a future version these will be considered non-comparable.Use 'ts == pd.Timestamp(date)' or 'ts.date() == date' instead.\n",
      "  result = libops.scalar_compare(x.ravel(), y, op)\n"
     ]
    },
    {
     "data": {
      "image/png": "[encoded data removed]",
      "text/plain": [
       "<Figure size 288x144 with 1 Axes>"
      ]
     },
     "metadata": {
      "needs_background": "light"
     },
     "output_type": "display_data"
    }
   ],
   "source": [
    "df_plot = df_all[(df_all['Date']==pd.to_datetime('2021-08-28'))&\n",
    "                 (df_all['Parameter'].isin(['NO2_ppbv','NO_ppbv']))].\\\n",
    "    groupby('Date_pdt').agg({'Time':'first','Value':'sum'}).reset_index()\n",
    "df_aqmd = df_NOx_aqmd[df_NOx_aqmd['Date']=='2021-08-28']\n",
    "\n",
    "fig, ax=plt.subplots(figsize=(4,2))\n",
    "ax.plot(pd.to_datetime(df_plot['Date_pdt']), df_plot['Value'], label='Pasadena site')\n",
    "ax.scatter(df_aqmd['Datetime'], df_aqmd['Value']*1000, label='AQMD', color='red')\n",
    "\n",
    "ax.legend(loc='upper right', fontsize=8)\n",
    "plt.xticks(rotation=30)\n",
    "# add shaded area between 10AM and 12PM\n",
    "ax.axvspan(pd.to_datetime('2021-08-28 10:40:00'), pd.to_datetime('2021-08-28 11:30:00'), \n",
    "           alpha=0.5, color='grey')\n",
    "\n",
    "ax.set_xlabel('Time (PDT)')\n",
    "ax.set_ylabel('$NO_x$ (ppbv)')\n",
    "ax.set_title('2021-08-28')\n",
    "#fig.savefig('../../result/time_series_NOx_check_2021-08-28.png', dpi=1200, bbox_inches='tight', facecolor='white')"
   ]
  },
  {
   "cell_type": "markdown",
   "metadata": {},
   "source": [
    "## NOAA ICIMS"
   ]
  },
  {
   "cell_type": "code",
   "execution_count": 6,
   "metadata": {},
   "outputs": [],
   "source": [
    "foldpath = '../../data/raw/NOAA_ICIMS/'\n",
    "filelist = [f for f in listdir(foldpath)]\n",
    "\n",
    "df_all = pd.DataFrame(columns=['Date_pdt', 'Parameter', 'Value'])\n",
    "for i in range(len(filelist)):\n",
    "    filepath = foldpath + filelist[i]\n",
    "    #print(filepath)\n",
    "    df = extract_ict_data(filepath)\n",
    "    df.loc[:,'Value'] = df.loc[:,'Value']/1000 # convert from pptv to ppbv\n",
    "    \n",
    "    # store in one dataframe\n",
    "    df_all = df_all.append(df)\n",
    "df_all = df_all.replace(-9999, np.nan)\n",
    "df_all['Date'] = pd.to_datetime(df_all['Date_pdt']).dt.date\n",
    "df_all['Time'] = pd.to_datetime(df_all['Date_pdt']).dt.time\n",
    "df_all.loc[pd.to_datetime(df_all['Date_pdt']).dt.weekday < 5,'Weekday'] = 'weekday'\n",
    "df_all.loc[pd.to_datetime(df_all['Date_pdt']).dt.weekday >= 5,'Weekday'] = 'weekend'\n",
    "\n",
    "# get daily average (morning)\n",
    "df_all = df_all[df_all['Value']>0]\n",
    "df_all = df_all[(df_all['Time']>=dt.time(10,0,0))&\n",
    "                        (df_all['Time']<=dt.time(12,0,0))]\n",
    "df_ICIMS_all_avg = df_all.groupby(['Date','Parameter']).\\\n",
    "    agg({'Value':'mean','Weekday':'first'}).reset_index()\n",
    "\n",
    "\n",
    "#df_ICIMS_all_avg.to_csv('../../data/intermediate/NOAA_ICIMS_morning_daily_avg.csv',\n",
    "#                        index=False)"
   ]
  },
  {
   "cell_type": "markdown",
   "metadata": {},
   "source": [
    "## CARB PICARRO"
   ]
  },
  {
   "cell_type": "code",
   "execution_count": 7,
   "metadata": {},
   "outputs": [],
   "source": [
    "foldpath = '../../data/raw/CARB_PICARRO/'\n",
    "filelist = [f for f in listdir(foldpath)]\n",
    "\n",
    "df_all = pd.DataFrame(columns=['Date_pdt', 'Parameter', 'Value'])\n",
    "for i in range(len(filelist)):\n",
    "    filepath = foldpath + filelist[i]\n",
    "    #print(filepath)\n",
    "    df = extract_ict_data(filepath)\n",
    "    \n",
    "    # store in one dataframe\n",
    "    df_all = df_all.append(df)\n",
    "df_all = df_all.replace(-9999, np.nan)\n",
    "df_all['Date'] = pd.to_datetime(df_all['Date_pdt']).dt.date\n",
    "df_all['Time'] = pd.to_datetime(df_all['Date_pdt']).dt.time\n",
    "df_all.loc[pd.to_datetime(df_all['Date_pdt']).dt.weekday < 5,'Weekday'] = 'weekday'\n",
    "df_all.loc[pd.to_datetime(df_all['Date_pdt']).dt.weekday >= 5,'Weekday'] = 'weekend'\n",
    "\n",
    "# get daily average (morning)\n",
    "df_all = df_all[df_all['Parameter'].isin(['CH4', 'CO', 'CO2','HCHO','NH3'])]\n",
    "df_all.loc[df_all['Parameter'].isin(['CO','CH4','CO2']), 'Value'] = \\\n",
    "    df_all.loc[df_all['Parameter'].isin(['CO','CH4','CO2']), 'Value']*1000 # convert from ppmv to ppbv \n",
    "df_all = df_all[df_all['Value']>0]\n",
    "df_all = df_all[(df_all['Time']>=dt.time(10,0,0))&\n",
    "                        (df_all['Time']<=dt.time(12,0,0))]\n",
    "df_PICARRO_all_avg = df_all.groupby(['Date','Parameter']).\\\n",
    "    agg({'Value':'mean','Weekday':'first'}).reset_index()\n",
    "\n",
    "#df_PICARRO_all_avg.to_csv('../../data/intermediate/CARB_PICARRO_morning_daily_avg.csv',\n",
    "#                        index=False)"
   ]
  },
  {
   "cell_type": "markdown",
   "metadata": {},
   "source": [
    "## Transfer measured data to SAPRC11 categories"
   ]
  },
  {
   "cell_type": "code",
   "execution_count": 37,
   "metadata": {},
   "outputs": [],
   "source": [
    "# delete repeat species in GCMS and PTR\n",
    "df_PTR_daily = df_PTR_all_avg\n",
    "\n",
    "df_GCMS_daily = df_GCMS_all_avg[~(df_GCMS_all_avg['Parameter'].str.contains('Pentene')|\n",
    "                                df_GCMS_all_avg['Parameter'].str.contains('Benzene')|\n",
    "                                df_GCMS_all_avg['Parameter'].str.contains('Isoprene')|\n",
    "                                df_GCMS_all_avg['Parameter'].str.contains('MEK')|\n",
    "                                df_GCMS_all_avg['Parameter'].str.contains('Toluene')|\n",
    "                                df_GCMS_all_avg['Parameter'].str.contains('MeAcetate')|\n",
    "                                df_GCMS_all_avg['Parameter'].str.contains('EthylAcetate')    ]\n",
    "\n",
    "df_PICARRO_daily = df_PICARRO_all_avg\n",
    "df_NOxNOyO3_daily = df_NOxNOyO3_all_avg\n",
    "df_ICIMS_daily = df_ICIMS_all_avg"
   ]
  },
  {
   "cell_type": "markdown",
   "metadata": {},
   "source": [
    "#### Get SAPRC11 categories for every measured species"
   ]
  },
  {
   "cell_type": "code",
   "execution_count": 10,
   "metadata": {},
   "outputs": [],
   "source": [
    "# NOxNOyO3\n",
    "df_name_saprc_NOxNOyO3 = df_NOxNOyO3_all_avg.groupby('Parameter').agg({'Value':'mean'}).reset_index()\n",
    "df_name_saprc_NOxNOyO3['S11'] = ['NO2','NO','NaN','NaN','O3','NaN']\n",
    "df_name_saprc_NOxNOyO3 = df_name_saprc_NOxNOyO3.drop(columns=['Value'])\n",
    "\n",
    "# ICIMS\n",
    "df_name_saprc_ICIMS = df_ICIMS_all_avg.groupby('Parameter').agg({'Value':'mean'}).reset_index()\n",
    "df_name_saprc_ICIMS['S11'] = ['PAN2','CLNO2','HCOOH','HNO2','HNO3','N2O5','PAN','PAN2']\n",
    "df_name_saprc_ICIMS = df_name_saprc_ICIMS.drop(columns=['Value'])\n",
    "\n",
    "# PICARRO\n",
    "df_name_saprc_PICARRO = df_PICARRO_all_avg.groupby('Parameter').agg({'Value':'mean'}).reset_index()\n",
    "df_name_saprc_PICARRO['S11'] = ['CH4','CO','CO2','HCHO','NH3']\n",
    "df_name_saprc_PICARRO = df_name_saprc_PICARRO.drop(columns=['Value'])\n",
    "\n",
    "# PTR\n",
    "df_name_saprc_PTR = pd.read_csv('../../data/intermediate/parameter_saprc_list_PTR_corrected.csv')\n",
    "\n",
    "# GC-MS\n",
    "df_name_saprc_GCMS = pd.read_csv('../../data/raw/parameter_saprc_list_GCMS.csv')"
   ]
  },
  {
   "cell_type": "markdown",
   "metadata": {},
   "source": [
    "#### Merge SAPRC11 name to df_daily"
   ]
  },
  {
   "cell_type": "code",
   "execution_count": 39,
   "metadata": {},
   "outputs": [],
   "source": [
    "# PICARRO\n",
    "df_PICARRO_saprc = df_PICARRO_daily.merge(df_name_saprc_PICARRO, \n",
    "                                          left_on='Parameter',right_on='Parameter', how='left')\n",
    "\n",
    "# NOxNOyO3\n",
    "df_NOxNOyO3_saprc = df_NOxNOyO3_daily.merge(df_name_saprc_NOxNOyO3,\n",
    "                                            left_on='Parameter',right_on='Parameter', how='left')\n",
    "\n",
    "# ICIMS\n",
    "df_ICIMS_saprc = df_ICIMS_daily.merge(df_name_saprc_ICIMS, \n",
    "                                      left_on='Parameter',right_on='Parameter', how='left')\n",
    "\n",
    "# PTR\n",
    "df_PTR_saprc = df_PTR_daily.merge(df_name_saprc_PTR.loc[:,['Name','S11']], \n",
    "                                  left_on='Parameter', right_on='Name', how='left')\n",
    "df_PTR_saprc = df_PTR_saprc.drop(columns=['Name'])\n",
    "\n",
    "#GC-MS\n",
    "df_GCMS_saprc = df_GCMS_daily.merge(df_name_saprc_GCMS.loc[:,['Name','S11']], \n",
    "                                    left_on='Parameter', right_on='Name', how='left')\n",
    "df_GCMS_saprc = df_GCMS_saprc.drop(columns=['Name'])"
   ]
  },
  {
   "cell_type": "code",
   "execution_count": 40,
   "metadata": {},
   "outputs": [],
   "source": [
    "# combine all data together and sum up the daily concentration of  all species by SAPRC11 categories\n",
    "df_all_saprc = pd.concat([df_PTR_saprc,df_GCMS_saprc,df_PICARRO_saprc,\n",
    "                          df_NOxNOyO3_saprc,df_ICIMS_saprc])\n",
    "df_all_saprc = df_all_saprc.groupby(['Date','S11']).\\\n",
    "    agg({'Value':'sum', 'Weekday':'first'}).reset_index()\n",
    "\n",
    "# rename species used in chamber model\n",
    "df_all_saprc.loc[df_all_saprc['S11']=='MeOH', 'S11'] = 'MEOH'\n",
    "df_all_saprc.loc[df_all_saprc['S11']=='HNO2', 'S11'] = 'HNO4'\n",
    "\n",
    "df_all_saprc.to_csv('../../data/intermediate/saprc11_initial_conc_pasadena.csv',\n",
    "                    index=False)"
   ]
  },
  {
   "cell_type": "markdown",
   "metadata": {},
   "source": [
    "# get VOC stats list"
   ]
  },
  {
   "cell_type": "code",
   "execution_count": 70,
   "metadata": {},
   "outputs": [
    {
     "name": "stderr",
     "output_type": "stream",
     "text": [
      "c:\\Users\\Shenglun\\anaconda3\\lib\\site-packages\\pandas\\core\\frame.py:9190: FutureWarning: merging between different levels is deprecated and will be removed in a future version. (2 levels on the left,1 on the right)\n",
      "  return merge(\n"
     ]
    }
   ],
   "source": [
    "# get stats of all species\n",
    "df_PTR_list = df_PTR_all_avg[df_PTR_all_avg['Parameter'].isin(df_name_saprc_PTR['Name'])].\\\n",
    "    groupby('Parameter').agg({'Value':['min','max','mean','std','median']}).reset_index()\n",
    "\n",
    "# add SPAPRC group to species and only keep species needed in SAPRC11\n",
    "df_PTR_list = df_PTR_list.merge(df_name_saprc_PTR[['Name','S11']], left_on='Parameter', right_on='Name', how='left')\n",
    "df_PTR_list = df_PTR_list.iloc[:,1:]\n",
    "df_PTR_list.columns = ['min','max','mean','std','median','Parameter','SAPRC']"
   ]
  },
  {
   "cell_type": "code",
   "execution_count": 92,
   "metadata": {},
   "outputs": [
    {
     "name": "stderr",
     "output_type": "stream",
     "text": [
      "C:\\Users\\Shenglun\\AppData\\Local\\Temp/ipykernel_6532/3118323447.py:14: FutureWarning: The default value of regex will change from True to False in a future version. In addition, single character regular expressions will *not* be treated as literal strings when regex=True.\n",
      "  df['Formula'] = df['Formula'].str.replace('(','').str.replace(')','')\n"
     ]
    }
   ],
   "source": [
    "# get PTR species name and chemical group\n",
    "\n",
    "filepath = '../../data/raw/NOAA_PTR/recap-NOAAPTR-VOCs-all_CITN_20210807_R1.ict'\n",
    "\n",
    "# get PTR spcies list and their formula\n",
    "with open(filepath) as fp:\n",
    "    content = fp.readlines()\n",
    "lines = content[14:316]\n",
    "df = pd.DataFrame({'Lines':lines})\n",
    "df = df['Lines'].str.split(', ', 3, expand=True)\n",
    "df.columns = ['Parameter','Unit','Note','Species']\n",
    "df['Species'] = df['Species'].str.replace('\\n','')\n",
    "df[['Formula','Name']] = df['Species'].str.split(' ', 1, expand=True)\n",
    "df['Formula'] = df['Formula'].str.replace('(','').str.replace(')','')\n",
    "df = df[['Parameter','Note','Formula','Name']]\n",
    "\n",
    "# only left species that are in SAPRC list\n",
    "df = df[df['Parameter'].isin(df_name_saprc_PTR['Name'])]\n",
    "\n",
    "\n",
    "# sign chemical groups to species\n",
    "df['Group'] = np.nan\n",
    "\n",
    "df.loc[df['Formula'].str.contains('F') |\n",
    "       df['Formula'].str.contains('Cl') |\n",
    "       df['Formula'].str.contains('Br'), 'Group'] = 'Halogenatics'\n",
    "\n",
    "df.loc[df['Formula'].str.contains('O') &\n",
    "       df['Formula'].str.contains('C') &\n",
    "       df['Formula'].str.contains('H') &\n",
    "       ~df['Formula'].str.contains('S') & \n",
    "       df['Group'].isna(), 'Group'] = 'OVOCs'\n",
    "\n",
    "df.loc[df['Group'].isna() &\n",
    "   df['Formula'].str.contains('N'), 'Group'] = 'Others' "
   ]
  },
  {
   "cell_type": "code",
   "execution_count": 96,
   "metadata": {},
   "outputs": [],
   "source": [
    "df_PTR_stat = df_PTR_list.merge(df, on='Parameter', how='left')#\n",
    "df_PTR_stat.sort_values(by=['Group','Formula']).to_csv('../../data/intermediate/PTR_species_list.csv',index=False)\n"
   ]
  }
 ],
 "metadata": {
  "kernelspec": {
   "display_name": "base",
   "language": "python",
   "name": "python3"
  },
  "language_info": {
   "codemirror_mode": {
    "name": "ipython",
    "version": 3
   },
   "file_extension": ".py",
   "mimetype": "text/x-python",
   "name": "python",
   "nbconvert_exporter": "python",
   "pygments_lexer": "ipython3",
   "version": "3.9.7"
  },
  "orig_nbformat": 4
 },
 "nbformat": 4,
 "nbformat_minor": 2
}
